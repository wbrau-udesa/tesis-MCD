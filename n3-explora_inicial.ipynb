{
 "cells": [
  {
   "cell_type": "markdown",
   "id": "8d6e3854-3ece-4962-96fe-0abc73862346",
   "metadata": {
    "tags": []
   },
   "source": [
    "# Exploración inicial\n",
    "\n",
    "Este Notebook realiza una comparación inicial entre los subtítulos de las películas de inmigración y una muestra de los subtítulos de las películas de no inmigración basada en la construcción de dos puntajes de la cantidad de palabras asociadas a la inmigración presentes en las películas."
   ]
  },
  {
   "cell_type": "code",
   "execution_count": null,
   "id": "25ffbc69-3385-40c2-ad84-0407375799e9",
   "metadata": {},
   "outputs": [],
   "source": [
    "# Importamos librerías \n",
    "\n",
    "## Módulos generales\n",
    "from libraries import *"
   ]
  },
  {
   "cell_type": "code",
   "execution_count": null,
   "id": "819be906-b3c6-4d62-bd97-b9240071c50b",
   "metadata": {},
   "outputs": [],
   "source": [
    "# Completar con directorios\n",
    "gitwd = \"\"\n",
    "datawd = \"\""
   ]
  },
  {
   "cell_type": "markdown",
   "id": "709ca3cc-02ce-464a-aa0f-cafe4c8e884b",
   "metadata": {
    "tags": []
   },
   "source": [
    "## Importar subtítulos "
   ]
  },
  {
   "cell_type": "code",
   "execution_count": null,
   "id": "8c6c3880-10e7-492a-8f3d-24ab21c3c6bd",
   "metadata": {},
   "outputs": [],
   "source": [
    "films = pd.read_pickle(datawd + \"/films_sample_inputdf.pkl\")     \n",
    "films.just_migra.value_counts()"
   ]
  },
  {
   "cell_type": "markdown",
   "id": "ce062e7b-438c-46ee-adb2-66d9261e5da2",
   "metadata": {
    "tags": []
   },
   "source": [
    "## Importar un conjunto de palabras asociadas a la inmigración junto con puntajes de asociación, y obtener _stems_ únicos "
   ]
  },
  {
   "cell_type": "code",
   "execution_count": null,
   "id": "cb39d3d0-d625-4435-81ff-ae38bc31d844",
   "metadata": {},
   "outputs": [],
   "source": [
    "# Usamos los Thesaurus de Sketch Engine\n",
    "os.chdir(datawd+\"/immigration corpus/sketchengine\")\n",
    "files = os.listdir()\n",
    "\n",
    "thesaurusf   = [f for f in files if 'thesaurus' in f]\n",
    "thesaurus = pd.DataFrame()\n",
    "\n",
    "# importamos todos los datos\n",
    "for f in range(len(thesaurusf)):\n",
    "    file = thesaurusf[f]\n",
    "    df_keyword = pd.read_csv(file, nrows = 1, skiprows = 1)\n",
    "    df = pd.read_csv(file, skiprows = 2)\n",
    "    df.columns = [\"word\", \"similarity\", \"freq\"]\n",
    "    keyword = df_keyword.index[0]\n",
    "    df['keyword'] = keyword\n",
    "    if keyword in [\"immigrant\", \"immigration\", \"migrant\", \"migration\"]:\n",
    "        print(keyword, file, df.shape)\n",
    "        thesaurus = pd.concat([thesaurus, df]).reset_index(drop = True)\n",
    "\n",
    "# Stemming\n",
    "thesaurus[\"word_porter\"] = [PorterStemmer().stem(x) for x in thesaurus.word]\n",
    "print(thesaurus.shape)\n",
    "\n",
    "# Agrupar por stem y calcular la similaridad máxima con las palabras clave\n",
    "thesaurus = thesaurus.groupby('word_porter', as_index = False).agg({'similarity': 'max', \n",
    "                                                                    'freq': 'mean',\n",
    "                                                                    'keyword': 'unique'})\n",
    "\n",
    "thesaurus['n_keywords'] = [len(k) for k in thesaurus.keyword]\n",
    "\n",
    "thesaurus = thesaurus.sort_values(['similarity', 'n_keywords'],ascending = False).reset_index(drop = True)\n",
    "print(thesaurus.shape)"
   ]
  },
  {
   "cell_type": "code",
   "execution_count": null,
   "id": "66956d36-3080-466d-8259-89749b8920f1",
   "metadata": {},
   "outputs": [],
   "source": [
    "thesaurus.head(10)"
   ]
  },
  {
   "cell_type": "markdown",
   "id": "dca2d3dc-ee63-4b31-8711-c7ced3c6c286",
   "metadata": {},
   "source": [
    "## Puntajes de contenido de inmigración por película\n",
    "\n",
    "- Puntaje I: para cada película, sumar la similaridad de cada palabra que aparece, sin importar cuántas veces aparece\n",
    "- Puntaje II: para cada película, sumer la similaridad de cada palabra por cada vez que aparece en el subtítulo"
   ]
  },
  {
   "cell_type": "code",
   "execution_count": null,
   "id": "01a6430b-d980-4887-a7e8-c8719fa96aec",
   "metadata": {},
   "outputs": [],
   "source": [
    "def score1(text):\n",
    "    score = np.sum([thesaurus.similarity[w] if thesaurus.word_porter[w] in text\n",
    "                    else 0 \n",
    "                    for w in range(thesaurus.shape[0]) ])\n",
    "    return score\n",
    "\n",
    "def score2(text):\n",
    "     \n",
    "    score = np.sum([thesaurus.similarity[w] * \n",
    "                    len(re.findall(thesaurus.word_porter[w], text)) \n",
    "                    for w in range(thesaurus.shape[0]) ])\n",
    "    \n",
    "    return score\n",
    "\n",
    "films[\"score1\"] = [score1(films.s[i]) for i in tqdm(range(films.shape[0]))]\n",
    "films[\"score2\"] = [score2(films.s[i]) for i in tqdm(range(films.shape[0]))]\n",
    "films[\"len_text\"] = [len(films.s[i]) for i in tqdm(range(films.shape[0]))] # también medimos el largo del texto"
   ]
  },
  {
   "cell_type": "markdown",
   "id": "02fec502-b354-4e1f-9597-7c5d19894422",
   "metadata": {},
   "source": [
    "## Comparación"
   ]
  },
  {
   "cell_type": "code",
   "execution_count": null,
   "id": "190632c8-154a-487e-bdf6-1dfb6885c921",
   "metadata": {},
   "outputs": [],
   "source": [
    "# Medidas resumen PUNTAJE 1\n",
    "print(\"INMIGRACIÓN\")\n",
    "print(films[films.just_migra == 1].score1.describe())\n",
    "print(\"--------\")\n",
    "print(\"NO-INMIGRACIÓN\")\n",
    "print(films[films.just_migra == 0].score1.describe())"
   ]
  },
  {
   "cell_type": "code",
   "execution_count": null,
   "id": "feb9c875-9957-405d-b1f5-788d87042774",
   "metadata": {},
   "outputs": [],
   "source": [
    "# Histogramas superpuestos PUNTAJE 1\n",
    "bins = np.linspace(0, 200, 20)\n",
    "plt.figure(figsize=(8, 6), dpi=80)\n",
    "plt.hist(films[films.just_migra == 0].score1, bins, alpha=0.5, label='Películas No Inmigración', density =True)\n",
    "plt.hist(films[films.just_migra == 1].score1, bins, alpha=0.5, label='Películas Inmigración', density = True)\n",
    "plt.legend(loc='upper left')\n",
    "plt.savefig(datawd + f\"/exploration_hist_score1.png\", dpi = 300)\n",
    "plt.show()"
   ]
  },
  {
   "cell_type": "code",
   "execution_count": null,
   "id": "0bc77293-bc60-4ad7-b60b-584bfbe61d00",
   "metadata": {},
   "outputs": [],
   "source": [
    "# Medidas resumen PUNTAJE 2\n",
    "print(\"INMIGRACIÓN\")\n",
    "print(films[films.just_migra == 1].score2.describe())\n",
    "print(\"--------\")\n",
    "print(\"NO-INMIGRACIÓN\")\n",
    "print(films[films.just_migra == 0].score2.describe())\n"
   ]
  },
  {
   "cell_type": "code",
   "execution_count": null,
   "id": "c0e03f15-824a-4cf0-9134-ecb842155d52",
   "metadata": {},
   "outputs": [],
   "source": [
    "# Histogramas superpuestos PUNTAJE 2\n",
    "plt.figure(figsize=(8, 6), dpi=80)\n",
    "plt.hist(films[films.just_migra == 0].score2, bins = 20, alpha=0.5, label='Películas No Inmigración', density =True)\n",
    "plt.hist(films[films.just_migra == 1].score2, bins = 20, alpha=0.5, label='Películas Inmigración', density = True)\n",
    "plt.legend(loc='upper left')\n",
    "plt.savefig(datawd + f\"/exploration_hist_score2.png\", dpi = 300)\n",
    "plt.show()"
   ]
  }
 ],
 "metadata": {
  "kernelspec": {
   "display_name": "Python 3 (ipykernel)",
   "language": "python",
   "name": "python3"
  },
  "language_info": {
   "codemirror_mode": {
    "name": "ipython",
    "version": 3
   },
   "file_extension": ".py",
   "mimetype": "text/x-python",
   "name": "python",
   "nbconvert_exporter": "python",
   "pygments_lexer": "ipython3",
   "version": "3.8.18"
  }
 },
 "nbformat": 4,
 "nbformat_minor": 5
}
